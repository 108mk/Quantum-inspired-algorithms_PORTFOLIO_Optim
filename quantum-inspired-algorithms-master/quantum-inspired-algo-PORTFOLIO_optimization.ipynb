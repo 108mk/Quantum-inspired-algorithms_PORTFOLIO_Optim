{
 "cells": [
  {
   "cell_type": "code",
   "execution_count": 1,
   "metadata": {},
   "outputs": [],
   "source": [
    "import quantum_inspired as qi\n",
    "import numpy as np"
   ]
  },
  {
   "cell_type": "code",
   "execution_count": 5,
   "metadata": {},
   "outputs": [
    {
     "data": {
      "text/plain": [
       "'/Users/manishkumar/Downloads/QTech/Sem-III/optimization/Quantum-inspired-algorithms/quantum-inspired-algorithms-master'"
      ]
     },
     "execution_count": 5,
     "metadata": {},
     "output_type": "execute_result"
    }
   ],
   "source": [
    "import os\n",
    "os.getcwd()"
   ]
  },
  {
   "cell_type": "code",
   "execution_count": 10,
   "metadata": {},
   "outputs": [],
   "source": [
    "# Reading the correlation matrix\n",
    "corr_mat = np.load('./data_example_2/SnP500_correlation.npy')\n",
    "# Reading vector of historical returns\n",
    "hist_returns = np.load('./data_example_2/SnP500_returns.npy')"
   ]
  },
  {
   "cell_type": "code",
   "execution_count": 11,
   "metadata": {},
   "outputs": [
    {
     "data": {
      "text/plain": [
       "((472, 472), (472,))"
      ]
     },
     "execution_count": 11,
     "metadata": {},
     "output_type": "execute_result"
    }
   ],
   "source": [
    "corr_mat.shape, hist_returns.shape\n"
   ]
  },
  {
   "cell_type": "code",
   "execution_count": 12,
   "metadata": {},
   "outputs": [],
   "source": [
    "mu = np.mean(hist_returns[:])"
   ]
  },
  {
   "cell_type": "code",
   "execution_count": 13,
   "metadata": {},
   "outputs": [],
   "source": [
    "n_assets = len(hist_returns[:])\n",
    "m_rows = n_assets + 1\n",
    "n_cols = n_assets + 1"
   ]
  },
  {
   "cell_type": "code",
   "execution_count": 14,
   "metadata": {},
   "outputs": [],
   "source": [
    "A = np.zeros((m_rows, n_cols))\n",
    "# Building the matrix A\n",
    "# In this case, matrix A is a block squared matrix of dimension 475 x 475\n",
    "# composed by the vector of historical returns r and correlation matrix \\Sigma\n",
    "# of 474 assets comprised in the S&P 500 stock index.\n",
    "A[0, 0] = 0\n",
    "A[0, 1:n_cols] = hist_returns[:]\n",
    "A[1:m_rows, 0] = hist_returns[:]"
   ]
  },
  {
   "cell_type": "code",
   "execution_count": 15,
   "metadata": {},
   "outputs": [],
   "source": [
    "A[1:m_rows, 1:n_cols] = corr_mat[:, :]"
   ]
  },
  {
   "cell_type": "code",
   "execution_count": 16,
   "metadata": {},
   "outputs": [],
   "source": [
    "# This defines a portfolio optimization problem Ax = b\n",
    "# where x = [\\nu, \\vec{\\omega}] and \\vec{\\omega} is the\n",
    "# portfolio allocation vector\n",
    "\n",
    "# low-rank approximation of matrix A\n",
    "rank = 5\n",
    "# Input parameters for the quantum inspired algorithm\n",
    "r = 340\n",
    "c = 340\n",
    "Nsamples = 10\n",
    "NcompX = 10"
   ]
  },
  {
   "cell_type": "code",
   "execution_count": 17,
   "metadata": {},
   "outputs": [],
   "source": [
    "# Notice that this function receives \"mu\" instead of the whole vector \"b\"\n",
    "# as the general coefficient <v_l|A^+|b> reduces to the inner product <mu*A_0., v_l>.\n",
    "# The latter allow us to reduce significantly the number of stochastic samples performed\n",
    "# to estimate \"lambdas[0:rank]\".\n",
    "sampled_comp, x = qi.linear_eqs_portopt(A, mu, r, c, rank, Nsamples, NcompX)"
   ]
  },
  {
   "cell_type": "code",
   "execution_count": 18,
   "metadata": {},
   "outputs": [
    {
     "data": {
      "text/plain": [
       "(array([269, 380, 183, 305, 401, 246, 297,  96, 425,  37], dtype=uint32),\n",
       " array([-2.09533675e-08,  1.02969850e-08, -9.36117359e-09, -2.12453807e-08,\n",
       "         6.13967980e-09,  8.96878718e-09, -2.34390919e-08,  9.13544946e-09,\n",
       "        -3.89774111e-08,  5.33220980e-09]))"
      ]
     },
     "execution_count": 18,
     "metadata": {},
     "output_type": "execute_result"
    }
   ],
   "source": [
    "sampled_comp, x"
   ]
  },
  {
   "cell_type": "code",
   "execution_count": null,
   "metadata": {},
   "outputs": [],
   "source": []
  }
 ],
 "metadata": {
  "kernelspec": {
   "display_name": "base",
   "language": "python",
   "name": "python3"
  },
  "language_info": {
   "codemirror_mode": {
    "name": "ipython",
    "version": 3
   },
   "file_extension": ".py",
   "mimetype": "text/x-python",
   "name": "python",
   "nbconvert_exporter": "python",
   "pygments_lexer": "ipython3",
   "version": "3.11.6"
  },
  "orig_nbformat": 4
 },
 "nbformat": 4,
 "nbformat_minor": 2
}
