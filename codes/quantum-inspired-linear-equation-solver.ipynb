{
 "cells": [
  {
   "cell_type": "code",
   "execution_count": null,
   "metadata": {},
   "outputs": [],
   "source": [
    "import quantum_inspired as qi\n",
    "import numpy as np\n",
    "\n",
    "# load a low-rank random matrix A with dimension 500 x 250\n",
    "A = np.load('A.npy')\n",
    "# load b vector (500 x 1) defining linear system Ax=b\n",
    "b = np.load('b.npy')\n",
    "# rank of matrix A\n",
    "rank = 3\n",
    "# Input parameters for the quantum inspired algorithm\n",
    "r = 200\n",
    "c = 200\n",
    "Nsamples = 50\n",
    "NcompX = 50\n",
    "sampled_comp, x = qi.linear_eqs(A, b, r, c, rank, Nsamples, NcompX)"
   ]
  }
 ],
 "metadata": {
  "language_info": {
   "name": "python"
  },
  "orig_nbformat": 4
 },
 "nbformat": 4,
 "nbformat_minor": 2
}
